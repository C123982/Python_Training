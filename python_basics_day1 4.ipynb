{
  "nbformat": 4,
  "nbformat_minor": 0,
  "metadata": {
    "colab": {
      "provenance": [],
      "include_colab_link": true
    },
    "kernelspec": {
      "name": "python3",
      "display_name": "Python 3"
    },
    "language_info": {
      "name": "python"
    }
  },
  "cells": [
    {
      "cell_type": "markdown",
      "metadata": {
        "id": "view-in-github",
        "colab_type": "text"
      },
      "source": [
        "<a href=\"https://colab.research.google.com/github/C123982/Python_Training/blob/main/python_basics_day1%204.ipynb\" target=\"_parent\"><img src=\"https://colab.research.google.com/assets/colab-badge.svg\" alt=\"Open In Colab\"/></a>"
      ]
    },
    {
      "cell_type": "code",
      "execution_count": null,
      "metadata": {
        "colab": {
          "base_uri": "https://localhost:8080/"
        },
        "id": "fooBKl8FmcO4",
        "outputId": "a81696ed-b4c5-4607-c55b-ecfa011f445c"
      },
      "outputs": [
        {
          "output_type": "stream",
          "name": "stdout",
          "text": [
            "welcome to Python world\n"
          ]
        }
      ],
      "source": [
        "print(\"welcome to Python world\")"
      ]
    },
    {
      "cell_type": "code",
      "source": [
        "print(\"CHANDU\")\n"
      ],
      "metadata": {
        "colab": {
          "base_uri": "https://localhost:8080/"
        },
        "id": "456iibnZml4b",
        "outputId": "ee962206-f0f9-485d-9fa5-73e899425912"
      },
      "execution_count": null,
      "outputs": [
        {
          "output_type": "stream",
          "name": "stdout",
          "text": [
            "CHANDU\n"
          ]
        }
      ]
    },
    {
      "cell_type": "code",
      "source": [
        "a=10\n",
        "print(a)\n",
        "print(id(a))\n",
        "a=3.15\n",
        "print(a)\n",
        "print(id(a))\n",
        "a=\"NTT DATA\"\n",
        "print(a)\n",
        "print(id(a))"
      ],
      "metadata": {
        "colab": {
          "base_uri": "https://localhost:8080/"
        },
        "id": "JEeSDliCy7d3",
        "outputId": "e7831a0d-2938-4a69-e264-bd6ef114fbb4"
      },
      "execution_count": 3,
      "outputs": [
        {
          "output_type": "stream",
          "name": "stdout",
          "text": [
            "10\n",
            "10751144\n",
            "3.15\n",
            "139653574524848\n",
            "NTT DATA\n",
            "139653150400880\n"
          ]
        }
      ]
    },
    {
      "cell_type": "code",
      "source": [
        "#DELETING MEMORY AFTER USAGE USING DELETE COMMAND\n",
        "a = 10\n",
        "print(a)\n",
        "\n",
        "del a\n",
        "print(a)\n"
      ],
      "metadata": {
        "colab": {
          "base_uri": "https://localhost:8080/",
          "height": 193
        },
        "id": "-D4sSj0m0ZJc",
        "outputId": "e400f36e-95c6-430c-b66e-2779f1bd5b22"
      },
      "execution_count": 4,
      "outputs": [
        {
          "output_type": "stream",
          "name": "stdout",
          "text": [
            "10\n"
          ]
        },
        {
          "output_type": "error",
          "ename": "NameError",
          "evalue": "name 'a' is not defined",
          "traceback": [
            "\u001b[0;31m---------------------------------------------------------------------------\u001b[0m",
            "\u001b[0;31mNameError\u001b[0m                                 Traceback (most recent call last)",
            "\u001b[0;32m<ipython-input-4-e922145d9e06>\u001b[0m in \u001b[0;36m<cell line: 0>\u001b[0;34m()\u001b[0m\n\u001b[1;32m      4\u001b[0m \u001b[0;34m\u001b[0m\u001b[0m\n\u001b[1;32m      5\u001b[0m \u001b[0;32mdel\u001b[0m \u001b[0ma\u001b[0m\u001b[0;34m\u001b[0m\u001b[0;34m\u001b[0m\u001b[0m\n\u001b[0;32m----> 6\u001b[0;31m \u001b[0mprint\u001b[0m\u001b[0;34m(\u001b[0m\u001b[0ma\u001b[0m\u001b[0;34m)\u001b[0m\u001b[0;34m\u001b[0m\u001b[0;34m\u001b[0m\u001b[0m\n\u001b[0m",
            "\u001b[0;31mNameError\u001b[0m: name 'a' is not defined"
          ]
        }
      ]
    },
    {
      "cell_type": "code",
      "source": [
        "#CREATING MULTIPLE VARIABLES IN ONE SHOT\n",
        "a,b,c = 10,1.2,\"abc\"\n",
        "print(a)\n",
        "print(b)\n",
        "print(c)"
      ],
      "metadata": {
        "colab": {
          "base_uri": "https://localhost:8080/"
        },
        "id": "iTpRtPf-0xhF",
        "outputId": "bbf97833-c391-47cc-ad86-42e997c66b35"
      },
      "execution_count": 10,
      "outputs": [
        {
          "output_type": "stream",
          "name": "stdout",
          "text": [
            "10\n",
            "1.2\n",
            "abc\n"
          ]
        }
      ]
    },
    {
      "cell_type": "code",
      "source": [
        "#CREATING MULTIPLE VARIABLES WITH SINGLE VALUE AT ONE SHOT\n",
        "a=b=c = 20\n",
        "print(a)\n",
        "print(b)\n",
        "print(c)\n"
      ],
      "metadata": {
        "colab": {
          "base_uri": "https://localhost:8080/"
        },
        "id": "DFnvcZZ21H9-",
        "outputId": "1ead5fa0-8ca3-4165-88c9-f4321ba7e349"
      },
      "execution_count": 11,
      "outputs": [
        {
          "output_type": "stream",
          "name": "stdout",
          "text": [
            "20\n",
            "20\n",
            "20\n"
          ]
        }
      ]
    },
    {
      "cell_type": "code",
      "source": [
        "#VARIABLE ANNOTATIONS\n",
        "a:int = 10\n",
        "print(a)\n",
        "\n",
        "print(__annotations__['a'])"
      ],
      "metadata": {
        "colab": {
          "base_uri": "https://localhost:8080/"
        },
        "id": "uR6m8bGD1yh7",
        "outputId": "e2c9d222-0244-44e1-93bd-29237acc2519"
      },
      "execution_count": 12,
      "outputs": [
        {
          "output_type": "stream",
          "name": "stdout",
          "text": [
            "10\n",
            "<class 'int'>\n"
          ]
        }
      ]
    },
    {
      "cell_type": "code",
      "source": [
        "#printing particular string using slicing\n",
        "s = \"code yuga\"\n",
        "print(s[0:2:1])\n"
      ],
      "metadata": {
        "colab": {
          "base_uri": "https://localhost:8080/"
        },
        "id": "15-GNPOVDd10",
        "outputId": "fbdd27df-e7f7-4bc2-c03a-7f64d5a5919d"
      },
      "execution_count": 13,
      "outputs": [
        {
          "output_type": "stream",
          "name": "stdout",
          "text": [
            "co\n"
          ]
        }
      ]
    },
    {
      "cell_type": "code",
      "source": [
        "#EX=2\n",
        "s=\"BANGALORE\"\n",
        "print(s[0:8:3])\n"
      ],
      "metadata": {
        "colab": {
          "base_uri": "https://localhost:8080/"
        },
        "id": "35nH5S_QDvsp",
        "outputId": "0b7b8927-95dc-4e5e-dbc7-8da46b9b77d7"
      },
      "execution_count": 14,
      "outputs": [
        {
          "output_type": "stream",
          "name": "stdout",
          "text": [
            "BGO\n"
          ]
        }
      ]
    },
    {
      "cell_type": "code",
      "source": [
        "#EX=3\n",
        "s=\"BANGALORE\"\n",
        "print(s[:5:1])"
      ],
      "metadata": {
        "colab": {
          "base_uri": "https://localhost:8080/"
        },
        "id": "tE94p0jhE7dd",
        "outputId": "e1b8d98e-9fe5-44e1-82e4-f651134fe494"
      },
      "execution_count": 16,
      "outputs": [
        {
          "output_type": "stream",
          "name": "stdout",
          "text": [
            "BANGA\n"
          ]
        }
      ]
    },
    {
      "cell_type": "code",
      "source": [
        "s=\"BANGALORE\"\n",
        "print(s[:5:])"
      ],
      "metadata": {
        "colab": {
          "base_uri": "https://localhost:8080/"
        },
        "id": "afP3dOOFFo-j",
        "outputId": "75617b78-e43f-41c4-cc51-3ec076823b10"
      },
      "execution_count": 17,
      "outputs": [
        {
          "output_type": "stream",
          "name": "stdout",
          "text": [
            "BANGA\n"
          ]
        }
      ]
    },
    {
      "cell_type": "code",
      "source": [
        "#Single line comment\n",
        "#abc"
      ],
      "metadata": {
        "id": "FPxmcJbtFMCy"
      },
      "execution_count": 18,
      "outputs": []
    },
    {
      "cell_type": "code",
      "source": [
        "s=\"BANGALORE\"\n",
        "print(s[0:0:1])"
      ],
      "metadata": {
        "colab": {
          "base_uri": "https://localhost:8080/"
        },
        "id": "NTej2nUTFzIR",
        "outputId": "f324254f-f39c-4754-cf03-efd490c6c88e"
      },
      "execution_count": 20,
      "outputs": [
        {
          "output_type": "stream",
          "name": "stdout",
          "text": [
            "\n"
          ]
        }
      ]
    },
    {
      "cell_type": "code",
      "source": [
        "s=\"BANGALORE\"\n",
        "print(s[0:3:0])"
      ],
      "metadata": {
        "colab": {
          "base_uri": "https://localhost:8080/",
          "height": 158
        },
        "id": "xR4-IFwuHYMI",
        "outputId": "c8c15898-2d1d-4881-8c39-af9c5d1dc725"
      },
      "execution_count": 21,
      "outputs": [
        {
          "output_type": "error",
          "ename": "ValueError",
          "evalue": "slice step cannot be zero",
          "traceback": [
            "\u001b[0;31m---------------------------------------------------------------------------\u001b[0m",
            "\u001b[0;31mValueError\u001b[0m                                Traceback (most recent call last)",
            "\u001b[0;32m<ipython-input-21-582376e2cdfb>\u001b[0m in \u001b[0;36m<cell line: 0>\u001b[0;34m()\u001b[0m\n\u001b[1;32m      1\u001b[0m \u001b[0ms\u001b[0m\u001b[0;34m=\u001b[0m\u001b[0;34m\"BANGALORE\"\u001b[0m\u001b[0;34m\u001b[0m\u001b[0;34m\u001b[0m\u001b[0m\n\u001b[0;32m----> 2\u001b[0;31m \u001b[0mprint\u001b[0m\u001b[0;34m(\u001b[0m\u001b[0ms\u001b[0m\u001b[0;34m[\u001b[0m\u001b[0;36m0\u001b[0m\u001b[0;34m:\u001b[0m\u001b[0;36m3\u001b[0m\u001b[0;34m:\u001b[0m\u001b[0;36m0\u001b[0m\u001b[0;34m]\u001b[0m\u001b[0;34m)\u001b[0m\u001b[0;34m\u001b[0m\u001b[0;34m\u001b[0m\u001b[0m\n\u001b[0m",
            "\u001b[0;31mValueError\u001b[0m: slice step cannot be zero"
          ]
        }
      ]
    },
    {
      "cell_type": "code",
      "source": [
        "#NEGATIVE SLICING\n",
        "s=\"BANGALORE\"\n",
        "print(s[-1:-4:-1])"
      ],
      "metadata": {
        "colab": {
          "base_uri": "https://localhost:8080/"
        },
        "id": "5DO2hgxTITL7",
        "outputId": "450d2191-9f3d-4bd6-ac03-d7d5249a56ad"
      },
      "execution_count": 22,
      "outputs": [
        {
          "output_type": "stream",
          "name": "stdout",
          "text": [
            "ERO\n"
          ]
        }
      ]
    },
    {
      "cell_type": "code",
      "source": [
        "#NEGATIVE SLICING\n",
        "#EX=01\n",
        "s=\"BANGALORE\"\n",
        "print(s[-1:-8:-2])"
      ],
      "metadata": {
        "colab": {
          "base_uri": "https://localhost:8080/"
        },
        "id": "lHAH-UEbIx5Z",
        "outputId": "8333af0d-0536-493f-e7a5-92f82bc6a3c6"
      },
      "execution_count": 23,
      "outputs": [
        {
          "output_type": "stream",
          "name": "stdout",
          "text": [
            "EOAN\n"
          ]
        }
      ]
    },
    {
      "cell_type": "code",
      "source": [
        "#NEGATIVE SLICING\n",
        "#EX=02\n",
        "s=\"BANGALORE\"\n",
        "print(s[-1:-8:-2])\n",
        "print(s[-1:-4:-1])\n",
        "print(s[::])\n",
        "print(s[-2:-6:2])"
      ],
      "metadata": {
        "colab": {
          "base_uri": "https://localhost:8080/"
        },
        "id": "U0Ls20JyJJFK",
        "outputId": "f24f4a9b-3d9e-40ff-a632-0c821af0696a"
      },
      "execution_count": 26,
      "outputs": [
        {
          "output_type": "stream",
          "name": "stdout",
          "text": [
            "EOAN\n",
            "ERO\n",
            "BANGALORE\n",
            "\n"
          ]
        }
      ]
    },
    {
      "cell_type": "code",
      "source": [
        "#NEGATIVE SLICING\n",
        "#EX=03\n",
        "print(s[-2:-6:2])"
      ],
      "metadata": {
        "colab": {
          "base_uri": "https://localhost:8080/"
        },
        "id": "YmLtmfTQLFDY",
        "outputId": "8a16e730-2082-4aef-8b1d-98da76024707"
      },
      "execution_count": 28,
      "outputs": [
        {
          "output_type": "stream",
          "name": "stdout",
          "text": [
            "\n"
          ]
        }
      ]
    },
    {
      "cell_type": "code",
      "source": [
        "#NEGATIVE SLICING\n",
        "#EX=03\n",
        "print(s[-6:-2:2])"
      ],
      "metadata": {
        "colab": {
          "base_uri": "https://localhost:8080/"
        },
        "id": "0ik4j0dsL4of",
        "outputId": "8cd58a54-50e8-4ac4-dc48-4d6c670916dd"
      },
      "execution_count": 29,
      "outputs": [
        {
          "output_type": "stream",
          "name": "stdout",
          "text": [
            "GL\n"
          ]
        }
      ]
    },
    {
      "cell_type": "code",
      "source": [
        "#NEGATIVE SLICING\n",
        "#EX=03\n",
        "print(s[-1::-1])"
      ],
      "metadata": {
        "colab": {
          "base_uri": "https://localhost:8080/"
        },
        "id": "dDwwv-7lMQ8R",
        "outputId": "c0da8f89-ffb1-42da-b4d9-47aa4b5a9332"
      },
      "execution_count": 30,
      "outputs": [
        {
          "output_type": "stream",
          "name": "stdout",
          "text": [
            "EROLAGNAB\n"
          ]
        }
      ]
    },
    {
      "cell_type": "code",
      "source": [
        "string = \"HELLO WORLD!\"\n",
        "print(string[-6:-1])"
      ],
      "metadata": {
        "colab": {
          "base_uri": "https://localhost:8080/"
        },
        "id": "IXqkUjD3NqN8",
        "outputId": "d18da7fa-03e9-44ec-8aa4-7702b814ede6"
      },
      "execution_count": 31,
      "outputs": [
        {
          "output_type": "stream",
          "name": "stdout",
          "text": [
            "WORLD\n"
          ]
        }
      ]
    }
  ]
}